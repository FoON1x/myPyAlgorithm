{
 "cells": [
  {
   "cell_type": "code",
   "execution_count": 13,
   "id": "83865d89",
   "metadata": {},
   "outputs": [],
   "source": [
    "from collections import deque"
   ]
  },
  {
   "cell_type": "code",
   "execution_count": 14,
   "id": "dddf96a7",
   "metadata": {},
   "outputs": [],
   "source": [
    "class BTreeNode():\n",
    "    def __init__(self, val):\n",
    "        self.val = val\n",
    "        self.leftChild = None\n",
    "        self.rightChild = None"
   ]
  },
  {
   "cell_type": "code",
   "execution_count": null,
   "id": "6436783e",
   "metadata": {},
   "outputs": [],
   "source": [
    "class BTree():\n",
    "    def __init__(self):\n",
    "        self.root = None\n",
    "\n",
    "\n",
    "    def addLeftChild(self, nodeObj: BTreeNode, val):\n",
    "        \"\"\"为该节点添加左孩子节点\"\"\"\n",
    "        if nodeObj.leftChild is None:\n",
    "            node = BTreeNode(val)\n",
    "            nodeObj.leftChild = node\n",
    "            return True\n",
    "        else:\n",
    "            return False\n",
    "\n",
    "\n",
    "    def addRightChild(self, nodeObj: BTreeNode, val):\n",
    "        \"\"\"为该节点添加右孩子节点\"\"\"\n",
    "        if nodeObj.rightChild is None:\n",
    "            node = BTreeNode(val)\n",
    "            nodeObj.rightChild = node\n",
    "            return True\n",
    "        else:\n",
    "            return False\n",
    "\n",
    "\n",
    "    def addRoot(self, val):\n",
    "        \"\"\"添加根节点\"\"\"\n",
    "        if self.root is None:\n",
    "            node = BTreeNode(val)\n",
    "            self.root = node\n",
    "            return True\n",
    "        else:\n",
    "            return False\n",
    "\n",
    "\n",
    "    def haveAllChild(self, nodeObj: BTreeNode):\n",
    "        \"\"\"判断该节点是否有完整的两个孩子节点\"\"\"\n",
    "        if nodeObj.leftChild is not None:\n",
    "            if nodeObj.rightChild is not None:\n",
    "                return True\n",
    "        return False\n",
    "\n",
    "\n",
    "    def getTailNode(self, nodeObj: BTreeNode):\n",
    "        \"\"\"使用层序遍历获得满二叉树的最后一个可以添加孩子的节点\"\"\"\n",
    "        if nodeObj is None:\n",
    "            return None\n",
    "        queue = deque([nodeObj])\n",
    "        while queue:\n",
    "            node = queue.popleft()\n",
    "            if self.haveAllChild(node):\n",
    "                queue.append(node.leftChild)\n",
    "                queue.append(node.rightChild)\n",
    "            else:\n",
    "                return node\n",
    "\n",
    "\n",
    "    def createByList(self, lst):\n",
    "        \"\"\"使用数组按照层序遍历初始化二叉树\"\"\"\n",
    "        for val in lst:\n",
    "            if (tail:=self.getTailNode(self.root)) is None:\n",
    "                self.addRoot(val)\n",
    "            else:\n",
    "                if not self.addLeftChild(tail, val):\n",
    "                    self.addRightChild(tail, val)\n",
    "\n",
    "    \n",
    "    def createByListStack(self, lst):\n",
    "        \"\"\"使用双向队列实现层次创建二叉树\"\"\"\n",
    "        self.root = BTreeNode(lst[0])\n",
    "        queue = deque([self.root])  # 用于存放父节点的双向队列\n",
    "        for element in lst[1:]:\n",
    "            newNode = BTreeNode(element)\n",
    "            fatherNode = queue.popleft()\n",
    "            # 添加左节点，之后放到队列最左侧，以便在下个循环添加右节点\n",
    "            if fatherNode.leftChild is None:\n",
    "                fatherNode.leftChild = newNode\n",
    "                queue.appendleft(fatherNode)\n",
    "            elif fatherNode.rightChild is None:\n",
    "                fatherNode.rightChild = newNode\n",
    "            queue.append(newNode)\n",
    "                \n",
    "\n",
    "    def printVal(self, nodeObj: BTreeNode):\n",
    "        \"\"\"打印节点数值\"\"\"\n",
    "        if nodeObj is not None:\n",
    "            print(nodeObj.val, end=' ')\n",
    "\n",
    "\n",
    "    def preOrder(self, nodeObj: BTreeNode):\n",
    "        \"\"\"前序遍历\"\"\"\n",
    "        if nodeObj != None:\n",
    "            self.printVal(nodeObj)\n",
    "            self.preOrder(nodeObj.leftChild)\n",
    "            self.preOrder(nodeObj.rightChild)\n",
    "    \n",
    "\n",
    "    def inOrder(self, nodeObj: BTreeNode):\n",
    "        \"\"\"中序遍历\"\"\"\n",
    "        if nodeObj != None:      \n",
    "            self.inOrder(nodeObj.leftChild)\n",
    "            self.printVal(nodeObj)\n",
    "            self.inOrder(nodeObj.rightChild)\n",
    "    \n",
    "\n",
    "    def postOrder(self, nodeObj: BTreeNode):\n",
    "        \"\"\"后序遍历\"\"\"\n",
    "        if nodeObj != None:      \n",
    "            self.postOrder(nodeObj.leftChild)\n",
    "            self.postOrder(nodeObj.rightChild)\n",
    "            self.printVal(nodeObj)\n",
    "\n",
    "\n",
    "    def bfsPrint(self):\n",
    "        \"\"\"层序遍历二叉树（广度优先）\"\"\"\n",
    "        if self.root is None:\n",
    "            return\n",
    "        queue = deque([self.root])\n",
    "        while queue:\n",
    "            node = queue.popleft()\n",
    "            print(node.val, end=' ')\n",
    "            if node.leftChild:\n",
    "                queue.append(node.leftChild)\n",
    "            if node.rightChild:\n",
    "                queue.append(node.rightChild)\n",
    "    \n",
    "\n",
    "    def bfsSearch(self, val):\n",
    "        \"\"\"广度优先搜索，采用堆栈\"\"\"\n",
    "        if self.root is None:\n",
    "            return None\n",
    "        queue = deque([self.root])\n",
    "        while queue:\n",
    "            node = queue.popleft()\n",
    "            if node.val == val:\n",
    "                return node\n",
    "            else:\n",
    "                if node.leftChild:\n",
    "                    queue.append(node.leftChild)\n",
    "                if node.rightChild:\n",
    "                    queue.append(node.rightChild)\n",
    "        return None\n",
    "\n",
    "\n",
    "    def dfsSearch(self, val, nodeObj):\n",
    "        \"\"\"深度优先搜索（递归法）\"\"\"\n",
    "        if nodeObj is None:\n",
    "            return None\n",
    "        if nodeObj.val == val:\n",
    "            return nodeObj\n",
    "        else:\n",
    "            if nodeObj.leftChild:\n",
    "                if (node:=self.dfsSearch(val, nodeObj.leftChild)):\n",
    "                    return node\n",
    "            if nodeObj.rightChild:\n",
    "                if (node:=self.dfsSearch(val, nodeObj.rightChild)):\n",
    "                    return node\n",
    "\n",
    "\n",
    "    def dfsSearchByStack(self, val):\n",
    "        \"\"\"深度优先搜索（堆栈法）\"\"\"\n",
    "        if self.root is None:\n",
    "            return None\n",
    "        queue = deque([self.root])\n",
    "        while queue:\n",
    "            node = queue.pop()\n",
    "            if node.val == val:\n",
    "                return node\n",
    "            else:\n",
    "                if node.rightChild: # 优先选择左节点搜索，因此先将右节点入栈\n",
    "                    queue.append(node.rightChild)\n",
    "                if node.leftChild:\n",
    "                    queue.append(node.leftChild)\n",
    "        return None"
   ]
  },
  {
   "cell_type": "code",
   "execution_count": 16,
   "id": "21db02eb",
   "metadata": {},
   "outputs": [
    {
     "name": "stdout",
     "output_type": "stream",
     "text": [
      "0 1 3 7 8 4 9 2 5 6 \n",
      "7 3 8 1 9 4 0 5 2 6 \n",
      "7 8 3 9 4 1 5 6 2 0 \n",
      "0 1 2 3 4 5 6 7 8 9 "
     ]
    }
   ],
   "source": [
    "lst = [i for i in range(10)]\n",
    "binary_tree = BTree()\n",
    "binary_tree.createByListStack(lst)\n",
    "binary_tree.preOrder(binary_tree.root)\n",
    "print('')\n",
    "binary_tree.inOrder(binary_tree.root)\n",
    "print('')\n",
    "binary_tree.postOrder(binary_tree.root)\n",
    "print('')\n",
    "binary_tree.bfsPrint()"
   ]
  },
  {
   "cell_type": "code",
   "execution_count": 17,
   "id": "82fa1135",
   "metadata": {},
   "outputs": [
    {
     "data": {
      "text/plain": [
       "1"
      ]
     },
     "execution_count": 17,
     "metadata": {},
     "output_type": "execute_result"
    }
   ],
   "source": [
    "binary_tree.bfsSearch(1).val"
   ]
  },
  {
   "cell_type": "code",
   "execution_count": 18,
   "id": "a671ef5f",
   "metadata": {},
   "outputs": [
    {
     "data": {
      "text/plain": [
       "8"
      ]
     },
     "execution_count": 18,
     "metadata": {},
     "output_type": "execute_result"
    }
   ],
   "source": [
    "binary_tree.dfsSearch(8, binary_tree.root).val"
   ]
  },
  {
   "cell_type": "code",
   "execution_count": 20,
   "id": "b5ef66ba",
   "metadata": {},
   "outputs": [
    {
     "data": {
      "text/plain": [
       "0"
      ]
     },
     "execution_count": 20,
     "metadata": {},
     "output_type": "execute_result"
    }
   ],
   "source": [
    "binary_tree.dfsSearchByStack(0).val"
   ]
  }
 ],
 "metadata": {
  "kernelspec": {
   "display_name": "myPyAlgorithm (3.12.10)",
   "language": "python",
   "name": "python3"
  },
  "language_info": {
   "codemirror_mode": {
    "name": "ipython",
    "version": 3
   },
   "file_extension": ".py",
   "mimetype": "text/x-python",
   "name": "python",
   "nbconvert_exporter": "python",
   "pygments_lexer": "ipython3",
   "version": "3.12.10"
  }
 },
 "nbformat": 4,
 "nbformat_minor": 5
}
