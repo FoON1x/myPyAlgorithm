{
 "cells": [
  {
   "cell_type": "markdown",
   "id": "239e5f9c",
   "metadata": {},
   "source": [
    "# Python链表\n",
    "## 单向链表"
   ]
  },
  {
   "cell_type": "code",
   "execution_count": 1,
   "id": "953bfd69",
   "metadata": {},
   "outputs": [],
   "source": [
    "# 节点类定义\n",
    "class Node():\n",
    "    def __init__(self, item):\n",
    "        self.item = item\n",
    "        self.next = None"
   ]
  },
  {
   "cell_type": "code",
   "execution_count": 2,
   "id": "2580a3db",
   "metadata": {},
   "outputs": [],
   "source": [
    "lst = [i for i in range(5)]"
   ]
  },
  {
   "cell_type": "code",
   "execution_count": 3,
   "id": "6af069c7",
   "metadata": {},
   "outputs": [],
   "source": [
    "# 打印链表\n",
    "def print_linklist(head):\n",
    "    while head:\n",
    "        print(head.item, end=' ')\n",
    "        head = head.next"
   ]
  },
  {
   "cell_type": "code",
   "execution_count": 4,
   "id": "92e55993",
   "metadata": {},
   "outputs": [
    {
     "name": "stdout",
     "output_type": "stream",
     "text": [
      "4 3 2 1 0 "
     ]
    }
   ],
   "source": [
    "# 头插法创建链表（链表为数组内容的倒序）\n",
    "# 头插法：新数据插入到头节点前\n",
    "def create_linklist_head(lst: list):\n",
    "    head = Node(lst[0])\n",
    "    for element in lst[1:]:\n",
    "        node = Node(element)\n",
    "        node.next = head\n",
    "        head = node\n",
    "    return head\n",
    "\n",
    "head = create_linklist_head(lst)\n",
    "print_linklist(head)"
   ]
  },
  {
   "cell_type": "code",
   "execution_count": 5,
   "id": "477b1363",
   "metadata": {},
   "outputs": [
    {
     "name": "stdout",
     "output_type": "stream",
     "text": [
      "0 1 2 3 4 "
     ]
    }
   ],
   "source": [
    "# 尾插法创建链表（链表为数组内容的正序）\n",
    "# 尾插法：新数据插入到尾节点后\n",
    "def create_linklist_tail(lst: list):\n",
    "    head = Node(lst[0])\n",
    "    tail = head\n",
    "    for element in lst[1:]:\n",
    "        node = Node(element)\n",
    "        tail.next = node\n",
    "        tail = tail.next\n",
    "    return head\n",
    "\n",
    "head = create_linklist_tail(lst)\n",
    "print_linklist(head)"
   ]
  },
  {
   "cell_type": "code",
   "execution_count": 6,
   "id": "362e378f",
   "metadata": {},
   "outputs": [
    {
     "name": "stdout",
     "output_type": "stream",
     "text": [
      "0 insert 1 2 3 4 "
     ]
    }
   ],
   "source": [
    "# 在curNode节点后插入以element为值的节点（无法在头节点前插入）\n",
    "def linklist_insert(curNode, element):\n",
    "    node = Node(element)\n",
    "    node.next = curNode.next\n",
    "    curNode.next = node\n",
    "\n",
    "head = create_linklist_tail(lst)\n",
    "linklist_insert(head, 'insert')\n",
    "print_linklist(head)"
   ]
  },
  {
   "cell_type": "code",
   "execution_count": 7,
   "id": "8785f7aa",
   "metadata": {},
   "outputs": [
    {
     "name": "stdout",
     "output_type": "stream",
     "text": [
      "0 2 3 4 "
     ]
    }
   ],
   "source": [
    "# 删除curNode节点后的节点（无法删除头节点）\n",
    "def linklist_delete(curNode):\n",
    "    if curNode.next:\n",
    "        tmp = curNode.next.next\n",
    "        del curNode.next\n",
    "        curNode.next = tmp\n",
    "\n",
    "head = create_linklist_tail(lst)\n",
    "linklist_delete(head)\n",
    "print_linklist(head)"
   ]
  },
  {
   "cell_type": "code",
   "execution_count": null,
   "id": "507f56ca",
   "metadata": {},
   "outputs": [
    {
     "name": "stdout",
     "output_type": "stream",
     "text": [
      "4 3 2 1 0 \n",
      "4 3 2 1 0 0 1 2 3 4 \n"
     ]
    }
   ],
   "source": [
    "class LinkList():\n",
    "    def __init__(self):\n",
    "        self.head = None\n",
    "        self.tail = None\n",
    "    \n",
    "    def insert_head(self, element):\n",
    "        \"\"\"头插元素\"\"\"\n",
    "        node = Node(element)\n",
    "        if self.head == None:\n",
    "            self.head = self.tail = node\n",
    "            return\n",
    "        node.next = self.head\n",
    "        self.head = node\n",
    "    \n",
    "    def insert_head_lst(self, lst):\n",
    "        \"\"\"头插列表\"\"\"\n",
    "        for element in lst:\n",
    "            self.insert_head(element)\n",
    "\n",
    "    def insert_tail(self, element):\n",
    "        \"\"\"尾插元素\"\"\"\n",
    "        node = Node(element)\n",
    "        if self.tail == None:\n",
    "            self.head = self.tail = node\n",
    "            return\n",
    "        self.tail.next = node\n",
    "        self.tail = self.tail.next\n",
    "\n",
    "    def insert_tail_lst(self, lst):\n",
    "        \"\"\"尾插列表\"\"\"\n",
    "        for element in lst:\n",
    "            self.insert_tail(element)\n",
    "\n",
    "    def print_linklist(self):\n",
    "        \"\"\"打印链表\"\"\"\n",
    "        curNode = self.head\n",
    "        while curNode:\n",
    "            print(curNode.item, end=' ')\n",
    "            curNode = curNode.next\n",
    "        print('')\n",
    "\n",
    "linklist = LinkList()\n",
    "linklist.insert_head_lst(lst)\n",
    "linklist.print_linklist()\n",
    "\n",
    "linklist.insert_tail_lst(lst)\n",
    "linklist.print_linklist()"
   ]
  },
  {
   "cell_type": "markdown",
   "id": "cf4b0f7d",
   "metadata": {},
   "source": [
    "## 双向链表"
   ]
  },
  {
   "cell_type": "code",
   "execution_count": null,
   "id": "16ff4553",
   "metadata": {},
   "outputs": [],
   "source": [
    "class DNode():\n",
    "    \"\"\"双向链表节点\"\"\"\n",
    "    def __init__(self, item):\n",
    "        self.item = item\n",
    "        self.prior = None\n",
    "        self.next = None"
   ]
  },
  {
   "cell_type": "code",
   "execution_count": null,
   "id": "23d08515",
   "metadata": {},
   "outputs": [
    {
     "name": "stdout",
     "output_type": "stream",
     "text": [
      "4 3 2 1 0 \n",
      "0 1 2 3 4 \n",
      "4 3 2 1 0 0 1 2 3 4 \n",
      "4 3 2 1 0 0 1 2 3 4 \n"
     ]
    }
   ],
   "source": [
    "class DLinkList():\n",
    "    def __init__(self):\n",
    "        self.head = None\n",
    "        self.tail = None\n",
    "\n",
    "    def insert_head(self, element):\n",
    "        \"\"\"头插元素\"\"\"\n",
    "        node = DNode(element)\n",
    "        if self.head == None:\n",
    "            self.head = self.tail = node\n",
    "        else:\n",
    "            self.head.prior = node\n",
    "            node.next = self.head\n",
    "            self.head = node\n",
    "\n",
    "    def insert_head_lst(self, lst):\n",
    "        \"\"\"头插列表\"\"\"\n",
    "        for element in lst:\n",
    "            self.insert_head(element)\n",
    "\n",
    "    def insert_tail(self, element):\n",
    "        \"\"\"尾插元素\"\"\"\n",
    "        node = DNode(element)\n",
    "        if self.tail == None:\n",
    "            self.head = self.tail = node\n",
    "        else:\n",
    "            self.tail.next = node\n",
    "            node.prior = self.tail\n",
    "            self.tail = node\n",
    "\n",
    "    def insert_tail_lst(self, lst):\n",
    "        \"\"\"尾插列表\"\"\"\n",
    "        for element in lst:\n",
    "            self.insert_tail(element)\n",
    "    \n",
    "    def print_linklist_head(self):\n",
    "        \"\"\"正向打印链表\"\"\"\n",
    "        curNode = self.head\n",
    "        while curNode:\n",
    "            print(curNode.item, end=' ')\n",
    "            curNode = curNode.next\n",
    "        print('')\n",
    "\n",
    "    def print_linklist_tail(self):\n",
    "        \"\"\"逆向打印链表\"\"\"\n",
    "        curNode = self.tail\n",
    "        while curNode:\n",
    "            print(curNode.item, end=' ')\n",
    "            curNode = curNode.prior\n",
    "        print('')\n",
    "\n",
    "dlinklist = DLinkList()\n",
    "dlinklist.insert_head_lst(lst)\n",
    "dlinklist.print_linklist_head()\n",
    "dlinklist.print_linklist_tail()\n",
    "\n",
    "dlinklist.insert_tail_lst(lst)\n",
    "dlinklist.print_linklist_head()\n",
    "dlinklist.print_linklist_tail()"
   ]
  }
 ],
 "metadata": {
  "kernelspec": {
   "display_name": "myPyAlgorithm (3.12.10)",
   "language": "python",
   "name": "python3"
  },
  "language_info": {
   "codemirror_mode": {
    "name": "ipython",
    "version": 3
   },
   "file_extension": ".py",
   "mimetype": "text/x-python",
   "name": "python",
   "nbconvert_exporter": "python",
   "pygments_lexer": "ipython3",
   "version": "3.12.10"
  }
 },
 "nbformat": 4,
 "nbformat_minor": 5
}
