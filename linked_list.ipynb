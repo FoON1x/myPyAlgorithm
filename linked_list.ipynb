{
 "cells": [
  {
   "cell_type": "code",
   "execution_count": 19,
   "id": "953bfd69",
   "metadata": {},
   "outputs": [],
   "source": [
    "class Node():\n",
    "    def __init__(self, item):\n",
    "        self.item = item\n",
    "        self.next = None"
   ]
  },
  {
   "cell_type": "code",
   "execution_count": 20,
   "id": "2580a3db",
   "metadata": {},
   "outputs": [],
   "source": [
    "lst = [i for i in range(5)]"
   ]
  },
  {
   "cell_type": "code",
   "execution_count": 21,
   "id": "6af069c7",
   "metadata": {},
   "outputs": [],
   "source": [
    "def print_linklist(head):\n",
    "    while head:\n",
    "        print(head.item)\n",
    "        head = head.next"
   ]
  },
  {
   "cell_type": "code",
   "execution_count": 22,
   "id": "92e55993",
   "metadata": {},
   "outputs": [
    {
     "name": "stdout",
     "output_type": "stream",
     "text": [
      "4\n",
      "3\n",
      "2\n",
      "1\n",
      "0\n"
     ]
    }
   ],
   "source": [
    "def create_linklist_head(lst: list):\n",
    "    head = Node(lst[0])\n",
    "    for element in lst[1:]:\n",
    "        node = Node(element)\n",
    "        node.next = head\n",
    "        head = node\n",
    "    return head\n",
    "\n",
    "head = create_linklist_head(lst)\n",
    "print_linklist(head)"
   ]
  },
  {
   "cell_type": "code",
   "execution_count": 23,
   "id": "477b1363",
   "metadata": {},
   "outputs": [
    {
     "name": "stdout",
     "output_type": "stream",
     "text": [
      "0\n",
      "1\n",
      "2\n",
      "3\n",
      "4\n"
     ]
    }
   ],
   "source": [
    "def create_linklist_tail(lst: list):\n",
    "    head = Node(lst[0])\n",
    "    tail = head\n",
    "    for element in lst[1:]:\n",
    "        node = Node(element)\n",
    "        tail.next = node\n",
    "        tail = tail.next\n",
    "    return head\n",
    "\n",
    "head = create_linklist_tail(lst)\n",
    "print_linklist(head)"
   ]
  },
  {
   "cell_type": "code",
   "execution_count": null,
   "id": "362e378f",
   "metadata": {},
   "outputs": [],
   "source": []
  }
 ],
 "metadata": {
  "kernelspec": {
   "display_name": "myPyAlgorithm (3.12.10)",
   "language": "python",
   "name": "python3"
  },
  "language_info": {
   "codemirror_mode": {
    "name": "ipython",
    "version": 3
   },
   "file_extension": ".py",
   "mimetype": "text/x-python",
   "name": "python",
   "nbconvert_exporter": "python",
   "pygments_lexer": "ipython3",
   "version": "3.12.10"
  }
 },
 "nbformat": 4,
 "nbformat_minor": 5
}
